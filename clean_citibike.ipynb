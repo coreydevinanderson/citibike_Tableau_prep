{
 "cells": [
  {
   "cell_type": "code",
   "execution_count": 1,
   "metadata": {},
   "outputs": [],
   "source": [
    "import pandas as pd\n",
    "import numpy as np"
   ]
  },
  {
   "cell_type": "code",
   "execution_count": 2,
   "metadata": {},
   "outputs": [],
   "source": [
    "df_feb_19 = pd.read_csv(\"201902-citibike-tripdata.csv\")\n",
    "df_jun_19 = pd.read_csv(\"201906-citibike-tripdata.csv\")"
   ]
  },
  {
   "cell_type": "code",
   "execution_count": 3,
   "metadata": {},
   "outputs": [],
   "source": [
    "df_feb_19_JC = pd.read_csv(\"JC-201902-citibike-tripdata.csv\")\n",
    "df_jun_19_JC = pd.read_csv(\"JC-201906-citibike-tripdata.csv\")"
   ]
  },
  {
   "cell_type": "code",
   "execution_count": 4,
   "metadata": {},
   "outputs": [],
   "source": [
    "df_feb_20 = pd.read_csv(\"202002-citibike-tripdata.csv\")\n",
    "df_jun_20 = pd.read_csv(\"202006-citibike-tripdata.csv\")"
   ]
  },
  {
   "cell_type": "code",
   "execution_count": 5,
   "metadata": {},
   "outputs": [],
   "source": [
    "df_feb_20_JC = pd.read_csv(\"JC-202002-citibike-tripdata.csv\")\n",
    "df_jun_20_JC = pd.read_csv(\"JC-202006-citibike-tripdata.csv\")"
   ]
  },
  {
   "cell_type": "code",
   "execution_count": 6,
   "metadata": {},
   "outputs": [],
   "source": [
    "df_all = pd.concat([df_feb_19, df_feb_19_JC, df_jun_19, df_jun_19_JC, df_feb_20, df_feb_20_JC, df_jun_20, df_jun_20_JC])"
   ]
  },
  {
   "cell_type": "code",
   "execution_count": 7,
   "metadata": {},
   "outputs": [
    {
     "data": {
      "text/html": [
       "<div>\n",
       "<style scoped>\n",
       "    .dataframe tbody tr th:only-of-type {\n",
       "        vertical-align: middle;\n",
       "    }\n",
       "\n",
       "    .dataframe tbody tr th {\n",
       "        vertical-align: top;\n",
       "    }\n",
       "\n",
       "    .dataframe thead th {\n",
       "        text-align: right;\n",
       "    }\n",
       "</style>\n",
       "<table border=\"1\" class=\"dataframe\">\n",
       "  <thead>\n",
       "    <tr style=\"text-align: right;\">\n",
       "      <th></th>\n",
       "      <th>tripduration</th>\n",
       "      <th>starttime</th>\n",
       "      <th>stoptime</th>\n",
       "      <th>start station id</th>\n",
       "      <th>start station name</th>\n",
       "      <th>start station latitude</th>\n",
       "      <th>start station longitude</th>\n",
       "      <th>end station id</th>\n",
       "      <th>end station name</th>\n",
       "      <th>end station latitude</th>\n",
       "      <th>end station longitude</th>\n",
       "      <th>bikeid</th>\n",
       "      <th>usertype</th>\n",
       "      <th>birth year</th>\n",
       "      <th>gender</th>\n",
       "    </tr>\n",
       "  </thead>\n",
       "  <tbody>\n",
       "    <tr>\n",
       "      <th>0</th>\n",
       "      <td>219</td>\n",
       "      <td>2019-02-01 00:00:06.2570</td>\n",
       "      <td>2019-02-01 00:03:46.1090</td>\n",
       "      <td>3494.0</td>\n",
       "      <td>E 115 St &amp; Lexington Ave</td>\n",
       "      <td>40.797911</td>\n",
       "      <td>-73.942300</td>\n",
       "      <td>3501.0</td>\n",
       "      <td>E 118 St &amp; Madison Ave</td>\n",
       "      <td>40.801487</td>\n",
       "      <td>-73.944251</td>\n",
       "      <td>33450</td>\n",
       "      <td>Subscriber</td>\n",
       "      <td>1989</td>\n",
       "      <td>1</td>\n",
       "    </tr>\n",
       "    <tr>\n",
       "      <th>1</th>\n",
       "      <td>143</td>\n",
       "      <td>2019-02-01 00:00:28.0320</td>\n",
       "      <td>2019-02-01 00:02:51.7460</td>\n",
       "      <td>438.0</td>\n",
       "      <td>St Marks Pl &amp; 1 Ave</td>\n",
       "      <td>40.727791</td>\n",
       "      <td>-73.985649</td>\n",
       "      <td>236.0</td>\n",
       "      <td>St Marks Pl &amp; 2 Ave</td>\n",
       "      <td>40.728419</td>\n",
       "      <td>-73.987140</td>\n",
       "      <td>25626</td>\n",
       "      <td>Subscriber</td>\n",
       "      <td>1990</td>\n",
       "      <td>1</td>\n",
       "    </tr>\n",
       "    <tr>\n",
       "      <th>2</th>\n",
       "      <td>296</td>\n",
       "      <td>2019-02-01 00:01:13.9870</td>\n",
       "      <td>2019-02-01 00:06:10.7340</td>\n",
       "      <td>3571.0</td>\n",
       "      <td>Bedford Ave &amp; Bergen St</td>\n",
       "      <td>40.676368</td>\n",
       "      <td>-73.952918</td>\n",
       "      <td>3549.0</td>\n",
       "      <td>Grand Ave &amp; Bergen St</td>\n",
       "      <td>40.678045</td>\n",
       "      <td>-73.962408</td>\n",
       "      <td>35568</td>\n",
       "      <td>Subscriber</td>\n",
       "      <td>1987</td>\n",
       "      <td>1</td>\n",
       "    </tr>\n",
       "    <tr>\n",
       "      <th>3</th>\n",
       "      <td>478</td>\n",
       "      <td>2019-02-01 00:01:14.1520</td>\n",
       "      <td>2019-02-01 00:09:12.7870</td>\n",
       "      <td>167.0</td>\n",
       "      <td>E 39 St &amp; 3 Ave</td>\n",
       "      <td>40.748901</td>\n",
       "      <td>-73.976049</td>\n",
       "      <td>477.0</td>\n",
       "      <td>W 41 St &amp; 8 Ave</td>\n",
       "      <td>40.756405</td>\n",
       "      <td>-73.990026</td>\n",
       "      <td>25045</td>\n",
       "      <td>Subscriber</td>\n",
       "      <td>1964</td>\n",
       "      <td>2</td>\n",
       "    </tr>\n",
       "    <tr>\n",
       "      <th>4</th>\n",
       "      <td>225</td>\n",
       "      <td>2019-02-01 00:01:49.3410</td>\n",
       "      <td>2019-02-01 00:05:34.4980</td>\n",
       "      <td>3458.0</td>\n",
       "      <td>W 55 St &amp; 6 Ave</td>\n",
       "      <td>40.763094</td>\n",
       "      <td>-73.978350</td>\n",
       "      <td>3443.0</td>\n",
       "      <td>W 52 St &amp; 6 Ave</td>\n",
       "      <td>40.761330</td>\n",
       "      <td>-73.979820</td>\n",
       "      <td>34006</td>\n",
       "      <td>Subscriber</td>\n",
       "      <td>1979</td>\n",
       "      <td>1</td>\n",
       "    </tr>\n",
       "  </tbody>\n",
       "</table>\n",
       "</div>"
      ],
      "text/plain": [
       "   tripduration                 starttime                  stoptime  \\\n",
       "0           219  2019-02-01 00:00:06.2570  2019-02-01 00:03:46.1090   \n",
       "1           143  2019-02-01 00:00:28.0320  2019-02-01 00:02:51.7460   \n",
       "2           296  2019-02-01 00:01:13.9870  2019-02-01 00:06:10.7340   \n",
       "3           478  2019-02-01 00:01:14.1520  2019-02-01 00:09:12.7870   \n",
       "4           225  2019-02-01 00:01:49.3410  2019-02-01 00:05:34.4980   \n",
       "\n",
       "   start station id        start station name  start station latitude  \\\n",
       "0            3494.0  E 115 St & Lexington Ave               40.797911   \n",
       "1             438.0       St Marks Pl & 1 Ave               40.727791   \n",
       "2            3571.0   Bedford Ave & Bergen St               40.676368   \n",
       "3             167.0           E 39 St & 3 Ave               40.748901   \n",
       "4            3458.0           W 55 St & 6 Ave               40.763094   \n",
       "\n",
       "   start station longitude  end station id        end station name  \\\n",
       "0               -73.942300          3501.0  E 118 St & Madison Ave   \n",
       "1               -73.985649           236.0     St Marks Pl & 2 Ave   \n",
       "2               -73.952918          3549.0   Grand Ave & Bergen St   \n",
       "3               -73.976049           477.0         W 41 St & 8 Ave   \n",
       "4               -73.978350          3443.0         W 52 St & 6 Ave   \n",
       "\n",
       "   end station latitude  end station longitude  bikeid    usertype  \\\n",
       "0             40.801487             -73.944251   33450  Subscriber   \n",
       "1             40.728419             -73.987140   25626  Subscriber   \n",
       "2             40.678045             -73.962408   35568  Subscriber   \n",
       "3             40.756405             -73.990026   25045  Subscriber   \n",
       "4             40.761330             -73.979820   34006  Subscriber   \n",
       "\n",
       "   birth year  gender  \n",
       "0        1989       1  \n",
       "1        1990       1  \n",
       "2        1987       1  \n",
       "3        1964       2  \n",
       "4        1979       1  "
      ]
     },
     "execution_count": 7,
     "metadata": {},
     "output_type": "execute_result"
    }
   ],
   "source": [
    "df_all.head()"
   ]
  },
  {
   "cell_type": "code",
   "execution_count": 8,
   "metadata": {},
   "outputs": [
    {
     "data": {
      "text/plain": [
       "(6216095, 15)"
      ]
     },
     "execution_count": 8,
     "metadata": {},
     "output_type": "execute_result"
    }
   ],
   "source": [
    "df_all.shape"
   ]
  },
  {
   "cell_type": "code",
   "execution_count": 10,
   "metadata": {},
   "outputs": [],
   "source": [
    "df_all[\"gender\"] = df_all[\"gender\"].map(str)\n",
    "df_all[\"start station id\"] = df_all[\"start station id\"].map(str)\n",
    "df_all[\"end station id\"] = df_all[\"end station id\"].map(str)\n",
    "df_all[\"bikeid\"] = df_all[\"bikeid\"].map(str)"
   ]
  },
  {
   "cell_type": "code",
   "execution_count": 11,
   "metadata": {},
   "outputs": [
    {
     "data": {
      "text/plain": [
       "tripduration                 int64\n",
       "starttime                   object\n",
       "stoptime                    object\n",
       "start station id            object\n",
       "start station name          object\n",
       "start station latitude     float64\n",
       "start station longitude    float64\n",
       "end station id              object\n",
       "end station name            object\n",
       "end station latitude       float64\n",
       "end station longitude      float64\n",
       "bikeid                      object\n",
       "usertype                    object\n",
       "birth year                   int64\n",
       "gender                      object\n",
       "dtype: object"
      ]
     },
     "execution_count": 11,
     "metadata": {},
     "output_type": "execute_result"
    }
   ],
   "source": [
    "df_all.dtypes"
   ]
  },
  {
   "cell_type": "code",
   "execution_count": 12,
   "metadata": {},
   "outputs": [],
   "source": [
    "df_all.to_csv(\"df_all.csv\")"
   ]
  },
  {
   "cell_type": "code",
   "execution_count": 2,
   "metadata": {},
   "outputs": [
    {
     "name": "stderr",
     "output_type": "stream",
     "text": [
      "C:\\Users\\Corey Anderson\\anaconda3\\envs\\PythonData\\lib\\site-packages\\IPython\\core\\interactiveshell.py:3072: DtypeWarning: Columns (5,7) have mixed types.Specify dtype option on import or set low_memory=False.\n",
      "  interactivity=interactivity, compiler=compiler, result=result)\n"
     ]
    }
   ],
   "source": [
    "df_feb_21 = pd.read_csv(\"202102-citibike-tripdata.csv\")\n",
    "df_mar_21 = pd.read_csv(\"202103-citibike-tripdata.csv\")\n",
    "df_apr_21 = pd.read_csv(\"202104-citibike-tripdata.csv\")\n",
    "df_may_21 = pd.read_csv(\"202105-citibike-tripdata.csv\")\n",
    "df_jun_21 = pd.read_csv(\"202105-citibike-tripdata.csv\")"
   ]
  },
  {
   "cell_type": "code",
   "execution_count": 3,
   "metadata": {},
   "outputs": [
    {
     "data": {
      "text/plain": [
       "ride_id                object\n",
       "rideable_type          object\n",
       "started_at             object\n",
       "ended_at               object\n",
       "start_station_name     object\n",
       "start_station_id       object\n",
       "end_station_name       object\n",
       "end_station_id         object\n",
       "start_lat             float64\n",
       "start_lng             float64\n",
       "end_lat               float64\n",
       "end_lng               float64\n",
       "member_casual          object\n",
       "dtype: object"
      ]
     },
     "execution_count": 3,
     "metadata": {},
     "output_type": "execute_result"
    }
   ],
   "source": [
    "df_feb_21.dtypes"
   ]
  },
  {
   "cell_type": "code",
   "execution_count": 14,
   "metadata": {},
   "outputs": [],
   "source": [
    "df_21 = pd.concat([df_feb_21, df_mar_21, df_apr_21, df_may_21, df_jun_21])"
   ]
  },
  {
   "cell_type": "code",
   "execution_count": 19,
   "metadata": {},
   "outputs": [
    {
     "data": {
      "text/html": [
       "<div>\n",
       "<style scoped>\n",
       "    .dataframe tbody tr th:only-of-type {\n",
       "        vertical-align: middle;\n",
       "    }\n",
       "\n",
       "    .dataframe tbody tr th {\n",
       "        vertical-align: top;\n",
       "    }\n",
       "\n",
       "    .dataframe thead th {\n",
       "        text-align: right;\n",
       "    }\n",
       "</style>\n",
       "<table border=\"1\" class=\"dataframe\">\n",
       "  <thead>\n",
       "    <tr style=\"text-align: right;\">\n",
       "      <th></th>\n",
       "      <th>ride_id</th>\n",
       "      <th>rideable_type</th>\n",
       "      <th>started_at</th>\n",
       "      <th>ended_at</th>\n",
       "      <th>start_station_name</th>\n",
       "      <th>start_station_id</th>\n",
       "      <th>end_station_name</th>\n",
       "      <th>end_station_id</th>\n",
       "      <th>start_lat</th>\n",
       "      <th>start_lng</th>\n",
       "      <th>end_lat</th>\n",
       "      <th>end_lng</th>\n",
       "      <th>member_casual</th>\n",
       "    </tr>\n",
       "  </thead>\n",
       "  <tbody>\n",
       "    <tr>\n",
       "      <th>0</th>\n",
       "      <td>BBA33D73DECE976F</td>\n",
       "      <td>docked_bike</td>\n",
       "      <td>2021-02-26 16:38:54</td>\n",
       "      <td>2021-02-26 16:44:37</td>\n",
       "      <td>E 84 St &amp; Park Ave</td>\n",
       "      <td>7243.04</td>\n",
       "      <td>E 78 St &amp; 2 Ave</td>\n",
       "      <td>7057.07</td>\n",
       "      <td>40.778626</td>\n",
       "      <td>-73.957720</td>\n",
       "      <td>40.772797</td>\n",
       "      <td>-73.955778</td>\n",
       "      <td>casual</td>\n",
       "    </tr>\n",
       "    <tr>\n",
       "      <th>1</th>\n",
       "      <td>B63D7AFF9AC5B6D4</td>\n",
       "      <td>docked_bike</td>\n",
       "      <td>2021-02-17 11:09:11</td>\n",
       "      <td>2021-02-17 11:26:47</td>\n",
       "      <td>Macon St &amp; Nostrand Ave</td>\n",
       "      <td>4214.03</td>\n",
       "      <td>Bond St &amp; Fulton St</td>\n",
       "      <td>4479.06</td>\n",
       "      <td>40.680983</td>\n",
       "      <td>-73.950047</td>\n",
       "      <td>40.689622</td>\n",
       "      <td>-73.983043</td>\n",
       "      <td>member</td>\n",
       "    </tr>\n",
       "    <tr>\n",
       "      <th>2</th>\n",
       "      <td>52B829195C469D99</td>\n",
       "      <td>docked_bike</td>\n",
       "      <td>2021-02-26 18:33:29</td>\n",
       "      <td>2021-02-26 19:05:41</td>\n",
       "      <td>Macon St &amp; Nostrand Ave</td>\n",
       "      <td>4214.03</td>\n",
       "      <td>Lefferts Pl &amp; Franklin Ave</td>\n",
       "      <td>4222.02</td>\n",
       "      <td>40.680983</td>\n",
       "      <td>-73.950047</td>\n",
       "      <td>40.680342</td>\n",
       "      <td>-73.955769</td>\n",
       "      <td>casual</td>\n",
       "    </tr>\n",
       "    <tr>\n",
       "      <th>3</th>\n",
       "      <td>19C84ECA2B468476</td>\n",
       "      <td>docked_bike</td>\n",
       "      <td>2021-02-26 12:48:35</td>\n",
       "      <td>2021-02-26 13:07:24</td>\n",
       "      <td>Macon St &amp; Nostrand Ave</td>\n",
       "      <td>4214.03</td>\n",
       "      <td>Bond St &amp; Fulton St</td>\n",
       "      <td>4479.06</td>\n",
       "      <td>40.680983</td>\n",
       "      <td>-73.950047</td>\n",
       "      <td>40.689622</td>\n",
       "      <td>-73.983043</td>\n",
       "      <td>member</td>\n",
       "    </tr>\n",
       "    <tr>\n",
       "      <th>4</th>\n",
       "      <td>C0DDB771E70D9DF5</td>\n",
       "      <td>docked_bike</td>\n",
       "      <td>2021-02-25 17:23:22</td>\n",
       "      <td>2021-02-25 17:28:20</td>\n",
       "      <td>Madison Ave &amp; E 26 St</td>\n",
       "      <td>6131.12</td>\n",
       "      <td>W 37 St &amp; 5 Ave</td>\n",
       "      <td>6398.06</td>\n",
       "      <td>40.742685</td>\n",
       "      <td>-73.986713</td>\n",
       "      <td>40.750380</td>\n",
       "      <td>-73.983390</td>\n",
       "      <td>member</td>\n",
       "    </tr>\n",
       "  </tbody>\n",
       "</table>\n",
       "</div>"
      ],
      "text/plain": [
       "            ride_id rideable_type           started_at             ended_at  \\\n",
       "0  BBA33D73DECE976F   docked_bike  2021-02-26 16:38:54  2021-02-26 16:44:37   \n",
       "1  B63D7AFF9AC5B6D4   docked_bike  2021-02-17 11:09:11  2021-02-17 11:26:47   \n",
       "2  52B829195C469D99   docked_bike  2021-02-26 18:33:29  2021-02-26 19:05:41   \n",
       "3  19C84ECA2B468476   docked_bike  2021-02-26 12:48:35  2021-02-26 13:07:24   \n",
       "4  C0DDB771E70D9DF5   docked_bike  2021-02-25 17:23:22  2021-02-25 17:28:20   \n",
       "\n",
       "        start_station_name start_station_id            end_station_name  \\\n",
       "0       E 84 St & Park Ave          7243.04             E 78 St & 2 Ave   \n",
       "1  Macon St & Nostrand Ave          4214.03         Bond St & Fulton St   \n",
       "2  Macon St & Nostrand Ave          4214.03  Lefferts Pl & Franklin Ave   \n",
       "3  Macon St & Nostrand Ave          4214.03         Bond St & Fulton St   \n",
       "4    Madison Ave & E 26 St          6131.12             W 37 St & 5 Ave   \n",
       "\n",
       "  end_station_id  start_lat  start_lng    end_lat    end_lng member_casual  \n",
       "0        7057.07  40.778626 -73.957720  40.772797 -73.955778        casual  \n",
       "1        4479.06  40.680983 -73.950047  40.689622 -73.983043        member  \n",
       "2        4222.02  40.680983 -73.950047  40.680342 -73.955769        casual  \n",
       "3        4479.06  40.680983 -73.950047  40.689622 -73.983043        member  \n",
       "4        6398.06  40.742685 -73.986713  40.750380 -73.983390        member  "
      ]
     },
     "execution_count": 19,
     "metadata": {},
     "output_type": "execute_result"
    }
   ],
   "source": [
    "df_21.head()"
   ]
  },
  {
   "cell_type": "code",
   "execution_count": 28,
   "metadata": {},
   "outputs": [
    {
     "data": {
      "text/plain": [
       "(9697076, 13)"
      ]
     },
     "execution_count": 28,
     "metadata": {},
     "output_type": "execute_result"
    }
   ],
   "source": [
    "df_21.shape"
   ]
  },
  {
   "cell_type": "code",
   "execution_count": 21,
   "metadata": {},
   "outputs": [
    {
     "data": {
      "text/plain": [
       "Index(['ride_id', 'rideable_type', 'started_at', 'ended_at',\n",
       "       'start_station_name', 'start_station_id', 'end_station_name',\n",
       "       'end_station_id', 'start_lat', 'start_lng', 'end_lat', 'end_lng',\n",
       "       'member_casual'],\n",
       "      dtype='object')"
      ]
     },
     "execution_count": 21,
     "metadata": {},
     "output_type": "execute_result"
    }
   ],
   "source": [
    "df_21.columns"
   ]
  },
  {
   "cell_type": "code",
   "execution_count": 24,
   "metadata": {},
   "outputs": [
    {
     "data": {
      "text/plain": [
       "docked_bike      9696658\n",
       "electric_bike        418\n",
       "Name: rideable_type, dtype: int64"
      ]
     },
     "execution_count": 24,
     "metadata": {},
     "output_type": "execute_result"
    }
   ],
   "source": [
    "df_21.rideable_type.value_counts()"
   ]
  },
  {
   "cell_type": "code",
   "execution_count": 30,
   "metadata": {},
   "outputs": [],
   "source": [
    "df_21.to_csv(\"df_21_union.csv\")"
   ]
  },
  {
   "cell_type": "code",
   "execution_count": null,
   "metadata": {},
   "outputs": [],
   "source": []
  }
 ],
 "metadata": {
  "kernelspec": {
   "display_name": "Python [conda env:PythonData] *",
   "language": "python",
   "name": "conda-env-PythonData-py"
  },
  "language_info": {
   "codemirror_mode": {
    "name": "ipython",
    "version": 3
   },
   "file_extension": ".py",
   "mimetype": "text/x-python",
   "name": "python",
   "nbconvert_exporter": "python",
   "pygments_lexer": "ipython3",
   "version": "3.6.10"
  }
 },
 "nbformat": 4,
 "nbformat_minor": 4
}
